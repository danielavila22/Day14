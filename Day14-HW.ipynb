{
 "cells": [
  {
   "cell_type": "markdown",
   "id": "6ce44393-3036-4c90-904f-1e85718f57fb",
   "metadata": {},
   "source": [
    "## Introduction to Data Science\n",
    "\n",
    "#### University of Redlands - DATA 101\n",
    "#### Prof: Joanna Bieri [joanna_bieri@redlands.edu](mailto:joanna_bieri@redlands.edu)\n",
    "#### [Class Website: data101.joannabieri.com](https://joannabieri.com/data101.html)\n",
    "\n",
    "---------------------------------------\n",
    "# Homework Day 14\n",
    "---------------------------------------\n",
    "\n",
    "GOALS:\n",
    "\n",
    "1. Reflect on Algorithmic bias\n",
    "2. Consider your role in Data Ethics\n",
    "3. Report on your reading.\n",
    "\n",
    "----------------------------------------------------------\n",
    "\n",
    "This homework has **3 questions** and **1 reading report**"
   ]
  },
  {
   "cell_type": "markdown",
   "id": "d0c422e3-32b1-452f-89a8-2586784d3957",
   "metadata": {},
   "source": [
    "## Important Information\n",
    "\n",
    "- Email: [joanna_bieri@redlands.edu](mailto:joanna_bieri@redlands.edu)\n",
    "- Office Hours: Duke 209 <a href=\"https://joannabieri.com/schedule.html\"> Click Here for Joanna's Schedule</a>\n",
    "\n",
    "## Day 14 Assignment - same drill.\n",
    "\n",
    "1. Make sure you can **Fork** and **Clone** the Day14 repo from [Redlands-DATA101](https://github.com/Redlands-DATA101)\n",
    "2. Open the file Day14-HW.ipynb and start doing the problems.\n",
    "    * You can do these problems as you follow along with the lecture notes and video.\n",
    "3. Get as far as you can before class.\n",
    "4. Submit what you have so far **Commit** and **Push** to Git.\n",
    "5. Take the daily check in quiz on **Canvas**.\n",
    "7. Come to class with lots of questions!\n",
    "\n",
    "## If you start having trouble with git!!!\n",
    "\n",
    "Some people have reported that GIT is disappearing or giving errors on when they try to use it in Jupyter Lab. Here is another option for interacting with git:\n",
    "\n",
    "[Git Desktop](https://github.com/apps/desktop)\n",
    "\n",
    "If yous start having errors, try downloading this app. I can show you how to use it in class."
   ]
  },
  {
   "cell_type": "markdown",
   "id": "15fd0fc5-0e82-4265-a328-e906366c4907",
   "metadata": {},
   "source": [
    "## Report on your Data Ethics reading:\n",
    "\n",
    "**Your answers should be written as neatly as possible in Markdown cells**\n",
    "\n",
    "Your homework for today is all essay and written work. Make sure you respond to the three questions in the lecture:\n",
    "\n",
    "**Q1** What is your response to our discussion of bias in algorithms? Talk about the pluses and minuses of using algorithms to make decisions in our human world.\n",
    "\n",
    "**Q2**\n",
    "How do you train yourself to make the right decisions (or reduce the likelihood of accidentally making the wrong decisions) at those points?\n",
    "\n",
    "**Q3**\n",
    "How do you respond when you see bias in someones work? How could you take action to educate others?\n",
    "\n",
    "\n",
    "**Reading Report**\n",
    "\n",
    "Write a report about what you learned from your ethics reading exploration. For each book/article you read:\n",
    "\n",
    "1. Include a full proper reference to the book/article.\n",
    "   * BOOK: Author last name, First name. Book Title: Subtitle. Edition, Publisher, Year.\n",
    "   * ONLINE ARTICLE: Author last name, First name. Article Title. Website name, date accessed. html link.\n",
    "   * [MLA styles for citing other types of online work](https://style.mla.org/works-cited/citations-by-format/online-works/?gad_source=1)\n",
    "2. Write a summary in your own words what the book/article was about. Imagine telling your classmates about what they would learn by reading the article.\n",
    "3. Discuss your own reaction to the book/article. Did it have any effect on how you think about data and ethics? Do you agree with the author? What specific ideas really stood out to you?"
   ]
  },
  {
   "cell_type": "markdown",
   "id": "bf53176f-7926-4d4e-967c-5b5bbd011abe",
   "metadata": {},
   "source": [
    "**Q1**My response to algorithms' biases is that they are hard to limit. Since the beginning of time, people have always been biased in their opinions. Some people would prefer to support their bias if it meant arguing for it. It is a true statement that algorithms are only biased because we gave them data that is biased. What made me concerned was how an AI was following a white face. It meant that there had to be more diversity in the making of face recognition AI. Seeing biases in the justice system doesn’t surprise me because since I was a kid these stereotypes are said publicly. Even as kids knowing what racism is and how people are treated wrongly demonstrates the way the world functions and believes. \r\n",
    "The plus of algorithms is that they can help mainly in unbiased work like statistics or stock markets. Once you start going on to add it to other parts of the world means you're adding data from our biased world. I would say trying to make something as unbiased as possible would be a hard task to do. I think you would need to see it in a very neutral position and not leaning towards one belief. \r\n"
   ]
  },
  {
   "cell_type": "markdown",
   "id": "6a527f22-684c-4aee-aa4d-afd435a9c996",
   "metadata": {},
   "source": [
    "**Q2**\n",
    "The best way for a person to make the right decisions in the aspect of ethics is to educate oneself in that area. As the world changes in its beliefs and practices we have to keep up with it. One must be neutral and be able to see both sides of an argument. One should ask themselves whether they have any biases in their work. Does any data I make disrespect the other side of the argument or mislead anyone into thinking a specific way?  The best way to check for biases is by asking people to review your work and ask for their opinions. Having multiple people almost like peer reviewing the work can help out. I would say another way to prepare for it is to compare your work to others who may be ethically correct. \r\n"
   ]
  },
  {
   "cell_type": "markdown",
   "id": "7335bfa0-82c0-46d7-9734-f4300dedfa54",
   "metadata": {},
   "source": [
    "**Q3**\n",
    "I would first want to check that I understand the point this bias is coming from. I want to make sure that my point is also not biased. I would go up to them and say that maybe their work can be leaning more toward one belief than the other. It may not be generalized to all of society but a specific group of people. You wouldn’t want to seem very aggressive against their point but may give suggestions as to ways you can make the data seem more neutral in its stance. I would probably talk to them about their point and try to help them out in seeing both sides of the perspective. That way one is more aware of biases and looks out for it more in the future. \r\n"
   ]
  },
  {
   "cell_type": "markdown",
   "id": "9ca89bb8-e1ea-4af6-aea6-faf8874deaf2",
   "metadata": {},
   "source": [
    "**Reading Report**\n",
    "\n",
    "\r\n",
    "Leonelli, Saina. “Locating Ethics in Data Science: Responsibility and Accountability in Global and Distributed Knowledge Production Systems.” Philosophical Transactions of the Royal Society A, vol.. 374, 2016. “https://royalsocietypublishing.org/doi/pdf/10.1098/rsta.2016.0122”\r\n",
    "The article explores the ethical challenges of data science and it mainly talks about it in large-scale views. It talks about how it's hard to crack down on data science because there are lots of institutions, and people involved in data. A lot of times data is just being made without the thought of how data should be used. A specific concept brought up in the article is “distributed morality” where participants of data science should take ethical responsibility in their work relating to data. Also talks about how one should have reflexive practices in assessing their work through an ethical perspective. I would say that I agree with the author. She stands on making ethical decisions in one's everyday work but also making sure it's part of our everyday thinking. I mentioned two ideas that I think resonated with what I feel every data scientist should be doing. \r\n",
    "Taylor, Linnet. \"The Ethics of Big Data as a Public Good: Which Public? Whose Good?\" Philosophical Transactions of the Royal Society A, vol. 374, 2016.\r\n",
    "https://royalsocietypublishing.org/doi/pdf/10.1098/rsta.2016.0126\r\n",
    "This article aligned more with the ethical and political implications of setting up data, especially from low and middle-income countries. She also stated that making data accessible to all of the public benefits both humanitarian and development. It brought the idea that this collection of big data can help society make decisions, in law, financial standpoints, or health care. This is good for society but it may also neglect privacy or consent. It brings up the phrase “responsible data” which means making data public so it at the same time protects people's rights to know how data is used. I agree with what the author is saying about making data a public good. It's giving everyone access to their work. It makes me wonder how much money do instituiosn make off of selling our data to other institution?\r\n"
   ]
  },
  {
   "cell_type": "markdown",
   "id": "c6faae4b-ce39-4695-a87f-99e40bda1322",
   "metadata": {},
   "source": [
    "\n",
    "-------------------------------------------------------\n",
    "\n",
    "## Further watching\n",
    "\n",
    "If you have time, really explore the world of data ethics. You could watch some of the videos linked from class.\n",
    "\n",
    "### Weapons of Math Destruction | Cathy O'Neil | Talks at Google\n",
    "\n",
    "{{< video https://www.youtube.com/watch?v=TQHs8SA1qpk >}}\n",
    "\n",
    "### Imagining a Future Free from the Algorithms of Oppression | Safiya Noble | ACL 2019\n",
    "\n",
    "{{< video https://www.youtube.com/watch?v=tNi_U1Bb1S0 >}}\n",
    "\n",
    "### Whats An Algorithm Got To Do With It\n",
    "\n",
    "{{< video https://www.youtube.com/watch?v=5zxDwA99soA >}}"
   ]
  },
  {
   "cell_type": "code",
   "execution_count": null,
   "id": "d75adfae-6e62-4549-9856-bf7030620521",
   "metadata": {},
   "outputs": [],
   "source": []
  }
 ],
 "metadata": {
  "kernelspec": {
   "display_name": "Python 3 (ipykernel)",
   "language": "python",
   "name": "python3"
  },
  "language_info": {
   "codemirror_mode": {
    "name": "ipython",
    "version": 3
   },
   "file_extension": ".py",
   "mimetype": "text/x-python",
   "name": "python",
   "nbconvert_exporter": "python",
   "pygments_lexer": "ipython3",
   "version": "3.12.3"
  }
 },
 "nbformat": 4,
 "nbformat_minor": 5
}
